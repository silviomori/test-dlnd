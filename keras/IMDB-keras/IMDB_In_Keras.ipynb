{
 "cells": [
  {
   "cell_type": "markdown",
   "metadata": {},
   "source": [
    "# Analyzing IMDB Data in Keras"
   ]
  },
  {
   "cell_type": "code",
   "execution_count": 2,
   "metadata": {},
   "outputs": [],
   "source": [
    "# Imports\n",
    "import numpy as np\n",
    "import tensorflow.keras as keras\n",
    "from tensorflow.keras.datasets import imdb\n",
    "from tensorflow.keras.layers import Dense, Dropout, Activation\n",
    "from tensorflow.keras.models import Sequential\n",
    "from tensorflow.keras.preprocessing.text import Tokenizer\n",
    "import matplotlib.pyplot as plt\n",
    "\n",
    "np.random.seed(42)"
   ]
  },
  {
   "cell_type": "markdown",
   "metadata": {},
   "source": [
    "## 1. Loading the data\n",
    "This dataset comes preloaded with Keras, so one simple command will get us training and testing data. There is a parameter for how many words we want to look at. We've set it at 1000, but feel free to experiment."
   ]
  },
  {
   "cell_type": "code",
   "execution_count": 3,
   "metadata": {},
   "outputs": [
    {
     "name": "stdout",
     "output_type": "stream",
     "text": [
      "Training feature vectors:\t25000\n",
      "Testing feature vectors:\t25000\n"
     ]
    }
   ],
   "source": [
    "# Loading the data (it's preloaded in Keras)\n",
    "(x_train, y_train), (x_test, y_test) = imdb.load_data(num_words=1000)\n",
    "\n",
    "print(f'Training feature vectors:\\t{x_train.shape[0]}')\n",
    "print(f'Testing feature vectors:\\t{x_test.shape[0]}')"
   ]
  },
  {
   "cell_type": "markdown",
   "metadata": {},
   "source": [
    "## 2. Examining the data\n",
    "Notice that the data has been already pre-processed, where all the words have numbers, and the reviews come in as a vector with the words that the review contains. For example, if the word 'the' is the first one in our dictionary, and a review contains the word 'the', then there is a 1 in the corresponding vector.\n",
    "\n",
    "The output comes as a vector of 1's and 0's, where 1 is a positive sentiment for the review, and 0 is negative."
   ]
  },
  {
   "cell_type": "code",
   "execution_count": 4,
   "metadata": {},
   "outputs": [
    {
     "name": "stdout",
     "output_type": "stream",
     "text": [
      "[1, 14, 22, 16, 43, 530, 973, 2, 2, 65, 458, 2, 66, 2, 4, 173, 36, 256, 5, 25, 100, 43, 838, 112, 50, 670, 2, 9, 35, 480, 284, 5, 150, 4, 172, 112, 167, 2, 336, 385, 39, 4, 172, 2, 2, 17, 546, 38, 13, 447, 4, 192, 50, 16, 6, 147, 2, 19, 14, 22, 4, 2, 2, 469, 4, 22, 71, 87, 12, 16, 43, 530, 38, 76, 15, 13, 2, 4, 22, 17, 515, 17, 12, 16, 626, 18, 2, 5, 62, 386, 12, 8, 316, 8, 106, 5, 4, 2, 2, 16, 480, 66, 2, 33, 4, 130, 12, 16, 38, 619, 5, 25, 124, 51, 36, 135, 48, 25, 2, 33, 6, 22, 12, 215, 28, 77, 52, 5, 14, 407, 16, 82, 2, 8, 4, 107, 117, 2, 15, 256, 4, 2, 7, 2, 5, 723, 36, 71, 43, 530, 476, 26, 400, 317, 46, 7, 4, 2, 2, 13, 104, 88, 4, 381, 15, 297, 98, 32, 2, 56, 26, 141, 6, 194, 2, 18, 4, 226, 22, 21, 134, 476, 26, 480, 5, 144, 30, 2, 18, 51, 36, 28, 224, 92, 25, 104, 4, 226, 65, 16, 38, 2, 88, 12, 16, 283, 5, 16, 2, 113, 103, 32, 15, 16, 2, 19, 178, 32]\n",
      "1\n"
     ]
    }
   ],
   "source": [
    "print(x_train[0])\n",
    "print(y_train[0])"
   ]
  },
  {
   "cell_type": "markdown",
   "metadata": {},
   "source": [
    "## 3. One-hot encoding the output\n",
    "Here, we'll turn the input vectors into (0,1)-vectors. For example, if the pre-processed vector contains the number 14, then in the processed vector, the 14th entry will be 1."
   ]
  },
  {
   "cell_type": "code",
   "execution_count": 5,
   "metadata": {},
   "outputs": [
    {
     "name": "stdout",
     "output_type": "stream",
     "text": [
      "[0. 1. 1. 0. 1. 1. 1. 1. 1. 1. 0. 0. 1. 1. 1. 1. 1. 1. 1. 1. 0. 1. 1. 0.\n",
      " 0. 1. 1. 0. 1. 0. 1. 0. 1. 1. 0. 1. 1. 0. 1. 1. 0. 0. 0. 1. 0. 0. 1. 0.\n",
      " 1. 0. 1. 1. 1. 0. 0. 0. 1. 0. 0. 0. 0. 0. 1. 0. 0. 1. 1. 0. 0. 0. 0. 1.\n",
      " 0. 0. 0. 0. 1. 1. 0. 0. 0. 0. 1. 0. 0. 0. 0. 1. 1. 0. 0. 0. 1. 0. 0. 0.\n",
      " 0. 0. 1. 0. 1. 0. 0. 1. 1. 0. 1. 1. 0. 0. 0. 0. 1. 1. 0. 0. 0. 1. 0. 0.\n",
      " 0. 0. 0. 0. 1. 0. 0. 0. 0. 0. 1. 0. 0. 0. 1. 1. 0. 0. 0. 0. 0. 1. 0. 0.\n",
      " 1. 0. 0. 1. 0. 0. 1. 0. 0. 0. 0. 0. 0. 0. 0. 0. 0. 0. 0. 0. 0. 0. 0. 1.\n",
      " 0. 0. 0. 0. 1. 1. 0. 0. 0. 0. 1. 0. 0. 0. 0. 0. 0. 0. 0. 0. 0. 0. 0. 0.\n",
      " 1. 0. 1. 0. 0. 0. 0. 0. 0. 0. 0. 0. 0. 0. 0. 0. 0. 0. 0. 0. 0. 0. 0. 1.\n",
      " 0. 0. 0. 0. 0. 0. 0. 0. 1. 0. 1. 0. 0. 0. 0. 0. 0. 0. 0. 0. 0. 0. 0. 0.\n",
      " 0. 0. 0. 0. 0. 0. 0. 0. 0. 0. 0. 0. 0. 0. 0. 0. 1. 0. 0. 0. 0. 0. 0. 0.\n",
      " 0. 0. 0. 0. 0. 0. 0. 0. 0. 0. 0. 0. 0. 0. 0. 0. 0. 0. 0. 1. 1. 0. 0. 0.\n",
      " 0. 0. 0. 0. 0. 0. 0. 0. 0. 1. 0. 0. 0. 0. 0. 0. 0. 0. 0. 0. 0. 0. 0. 0.\n",
      " 0. 0. 0. 0. 1. 1. 0. 0. 0. 0. 0. 0. 0. 0. 0. 0. 0. 0. 0. 0. 0. 0. 0. 0.\n",
      " 1. 0. 0. 0. 0. 0. 0. 0. 0. 0. 0. 0. 0. 0. 0. 0. 0. 0. 0. 0. 0. 0. 0. 0.\n",
      " 0. 0. 0. 0. 0. 0. 0. 0. 0. 0. 0. 0. 0. 0. 0. 0. 0. 0. 0. 0. 0. 1. 0. 0.\n",
      " 0. 1. 1. 0. 0. 0. 0. 0. 0. 0. 0. 0. 0. 0. 0. 0. 1. 0. 0. 0. 0. 0. 0. 1.\n",
      " 0. 0. 0. 0. 0. 0. 0. 0. 0. 0. 0. 0. 0. 0. 0. 0. 0. 0. 0. 0. 0. 0. 0. 0.\n",
      " 0. 0. 0. 0. 0. 0. 0. 0. 0. 0. 0. 0. 0. 0. 0. 1. 0. 0. 0. 0. 0. 0. 0. 0.\n",
      " 0. 0. 1. 0. 0. 0. 0. 0. 0. 0. 0. 0. 0. 1. 0. 0. 0. 0. 0. 0. 1. 0. 0. 0.\n",
      " 1. 0. 0. 0. 0. 0. 0. 0. 0. 0. 0. 0. 0. 0. 0. 0. 0. 0. 0. 0. 0. 0. 0. 0.\n",
      " 0. 0. 0. 0. 0. 0. 0. 0. 0. 0. 0. 1. 0. 0. 0. 0. 0. 0. 0. 0. 0. 0. 0. 0.\n",
      " 0. 0. 1. 0. 0. 0. 0. 0. 0. 0. 0. 0. 0. 0. 0. 0. 0. 0. 1. 0. 0. 0. 0. 0.\n",
      " 0. 0. 0. 0. 0. 0. 0. 0. 0. 0. 0. 0. 0. 0. 0. 0. 0. 0. 0. 0. 0. 0. 0. 0.\n",
      " 0. 0. 0. 0. 0. 0. 0. 0. 0. 0. 0. 0. 0. 0. 0. 0. 0. 0. 0. 0. 0. 0. 0. 0.\n",
      " 0. 0. 0. 0. 0. 0. 0. 0. 0. 0. 0. 0. 0. 0. 0. 0. 0. 0. 0. 1. 0. 0. 0. 0.\n",
      " 0. 0. 1. 0. 0. 0. 0. 0. 0. 0. 0. 0. 0. 0. 0. 0. 0. 0. 0. 0. 0. 0. 0. 0.\n",
      " 0. 0. 0. 0. 0. 0. 0. 0. 0. 0. 0. 0. 0. 0. 0. 0. 0. 0. 0. 0. 0. 0. 1. 0.\n",
      " 0. 0. 0. 0. 0. 0. 0. 0. 0. 0. 0. 0. 0. 0. 0. 0. 0. 0. 0. 0. 0. 0. 0. 0.\n",
      " 0. 0. 0. 0. 0. 0. 0. 0. 0. 0. 0. 0. 0. 0. 0. 0. 0. 0. 0. 0. 0. 0. 0. 0.\n",
      " 0. 0. 0. 1. 0. 0. 0. 0. 0. 0. 0. 0. 0. 0. 0. 0. 0. 0. 0. 0. 0. 0. 0. 0.\n",
      " 0. 0. 0. 0. 0. 0. 0. 0. 0. 0. 0. 0. 0. 0. 0. 0. 0. 0. 0. 0. 0. 0. 0. 0.\n",
      " 0. 0. 0. 0. 0. 0. 0. 0. 0. 0. 0. 0. 0. 0. 0. 0. 0. 0. 0. 0. 0. 0. 0. 0.\n",
      " 0. 0. 0. 0. 0. 0. 0. 0. 0. 0. 0. 0. 0. 0. 0. 0. 0. 0. 0. 0. 0. 0. 0. 0.\n",
      " 0. 0. 0. 0. 0. 0. 0. 0. 0. 0. 0. 0. 0. 0. 0. 0. 0. 0. 0. 0. 0. 0. 1. 0.\n",
      " 0. 0. 0. 0. 0. 0. 0. 0. 0. 0. 0. 0. 0. 0. 0. 0. 0. 0. 0. 0. 0. 0. 0. 0.\n",
      " 0. 0. 0. 0. 0. 0. 0. 0. 0. 0. 0. 0. 0. 0. 0. 0. 0. 0. 0. 0. 0. 0. 0. 0.\n",
      " 0. 0. 0. 0. 0. 0. 0. 0. 0. 0. 0. 0. 0. 0. 0. 0. 0. 0. 0. 0. 0. 0. 0. 0.\n",
      " 0. 0. 0. 0. 0. 0. 0. 0. 0. 0. 0. 0. 0. 0. 0. 0. 0. 0. 0. 0. 0. 0. 0. 0.\n",
      " 0. 0. 0. 0. 0. 0. 0. 0. 0. 0. 0. 0. 0. 0. 0. 0. 0. 0. 0. 0. 0. 0. 0. 0.\n",
      " 0. 0. 0. 0. 0. 0. 0. 0. 0. 0. 0. 0. 0. 1. 0. 0. 0. 0. 0. 0. 0. 0. 0. 0.\n",
      " 0. 0. 0. 0. 0. 0. 0. 0. 0. 0. 0. 0. 0. 0. 0. 0.]\n"
     ]
    }
   ],
   "source": [
    "# One-hot encoding the output into vector mode, each of length 1000\n",
    "num_words = 1000\n",
    "tokenizer = Tokenizer(num_words=num_words)\n",
    "x_train = tokenizer.sequences_to_matrix(x_train, mode='binary')\n",
    "x_test = tokenizer.sequences_to_matrix(x_test, mode='binary')\n",
    "print(x_train[0])"
   ]
  },
  {
   "cell_type": "markdown",
   "metadata": {},
   "source": [
    "And we'll also one-hot encode the output."
   ]
  },
  {
   "cell_type": "code",
   "execution_count": 6,
   "metadata": {},
   "outputs": [
    {
     "name": "stdout",
     "output_type": "stream",
     "text": [
      "Training label vectors:\t(25000, 2)\n",
      "Testing label vectors:\t(25000, 2)\n"
     ]
    }
   ],
   "source": [
    "# One-hot encoding the output\n",
    "num_classes = 2\n",
    "y_train = keras.utils.to_categorical(y_train, num_classes)\n",
    "y_test = keras.utils.to_categorical(y_test, num_classes)\n",
    "print(f'Training label vectors:\\t{y_train.shape}')\n",
    "print(f'Testing label vectors:\\t{y_test.shape}')"
   ]
  },
  {
   "cell_type": "markdown",
   "metadata": {},
   "source": [
    "## 4. Building the  model architecture\n",
    "Build a model here using sequential. Feel free to experiment with different layers and sizes! Also, experiment adding dropout to reduce overfitting."
   ]
  },
  {
   "cell_type": "code",
   "execution_count": 7,
   "metadata": {},
   "outputs": [
    {
     "name": "stdout",
     "output_type": "stream",
     "text": [
      "WARNING:tensorflow:From /home/silvio/.local/lib/python3.7/site-packages/tensorflow/python/ops/init_ops.py:1251: calling VarianceScaling.__init__ (from tensorflow.python.ops.init_ops) with dtype is deprecated and will be removed in a future version.\n",
      "Instructions for updating:\n",
      "Call initializer instance with the dtype argument instead of passing it to the constructor\n",
      "Model: \"sequential\"\n",
      "_________________________________________________________________\n",
      "Layer (type)                 Output Shape              Param #   \n",
      "=================================================================\n",
      "dense (Dense)                (None, 64)                64064     \n",
      "_________________________________________________________________\n",
      "dropout (Dropout)            (None, 64)                0         \n",
      "_________________________________________________________________\n",
      "activation (Activation)      (None, 64)                0         \n",
      "_________________________________________________________________\n",
      "dense_1 (Dense)              (None, 64)                4160      \n",
      "_________________________________________________________________\n",
      "dropout_1 (Dropout)          (None, 64)                0         \n",
      "_________________________________________________________________\n",
      "activation_1 (Activation)    (None, 64)                0         \n",
      "_________________________________________________________________\n",
      "dense_2 (Dense)              (None, 2)                 130       \n",
      "_________________________________________________________________\n",
      "activation_2 (Activation)    (None, 2)                 0         \n",
      "=================================================================\n",
      "Total params: 68,354\n",
      "Trainable params: 68,354\n",
      "Non-trainable params: 0\n",
      "_________________________________________________________________\n"
     ]
    }
   ],
   "source": [
    "# DONE: Build the model architecture\n",
    "lr = 0.00015\n",
    "l1_alpha = 0.0015\n",
    "\n",
    "model = Sequential()\n",
    "\n",
    "model.add(Dense(64, input_dim=num_words, kernel_regularizer=keras.regularizers.l1(l1_alpha)))\n",
    "model.add(Dropout(0.50))\n",
    "model.add(Activation('relu'))\n",
    "\n",
    "model.add(Dense(64, input_dim=num_words, kernel_regularizer=keras.regularizers.l1(l1_alpha)))\n",
    "model.add(Dropout(0.50))\n",
    "model.add(Activation('relu'))\n",
    "\n",
    "model.add(Dense(num_classes))\n",
    "model.add(Activation('softmax'))\n",
    "\n",
    "model.summary()\n",
    "\n",
    "# DONE: Compile the model using a loss function and an optimizer.\n",
    "optimizer = keras.optimizers.Adam(learning_rate=lr)\n",
    "\n",
    "model.compile(loss='categorical_crossentropy',\n",
    "              optimizer=optimizer,\n",
    "              metrics=['accuracy'])"
   ]
  },
  {
   "cell_type": "markdown",
   "metadata": {},
   "source": [
    "## 5. Training the model\n",
    "Run the model here. Experiment with different batch_size, and number of epochs!"
   ]
  },
  {
   "cell_type": "code",
   "execution_count": 8,
   "metadata": {},
   "outputs": [
    {
     "name": "stdout",
     "output_type": "stream",
     "text": [
      "Train on 25000 samples, validate on 25000 samples\n",
      "Epoch 1/100\n",
      "25000/25000 - 4s - loss: 2.5028 - acc: 0.6564 - val_loss: 1.1566 - val_acc: 0.8170\n",
      "Epoch 2/100\n",
      "25000/25000 - 4s - loss: 0.9325 - acc: 0.7975 - val_loss: 0.7560 - val_acc: 0.8154\n",
      "Epoch 3/100\n",
      "25000/25000 - 4s - loss: 0.7115 - acc: 0.8162 - val_loss: 0.6224 - val_acc: 0.8412\n",
      "Epoch 4/100\n",
      "25000/25000 - 4s - loss: 0.6333 - acc: 0.8241 - val_loss: 0.5743 - val_acc: 0.8458\n",
      "Epoch 5/100\n",
      "25000/25000 - 4s - loss: 0.5936 - acc: 0.8334 - val_loss: 0.5479 - val_acc: 0.8508\n",
      "Epoch 6/100\n",
      "25000/25000 - 4s - loss: 0.5704 - acc: 0.8396 - val_loss: 0.5302 - val_acc: 0.8492\n",
      "Epoch 7/100\n",
      "25000/25000 - 4s - loss: 0.5555 - acc: 0.8374 - val_loss: 0.5148 - val_acc: 0.8546\n",
      "Epoch 8/100\n",
      "25000/25000 - 4s - loss: 0.5441 - acc: 0.8395 - val_loss: 0.5070 - val_acc: 0.8559\n",
      "Epoch 9/100\n",
      "25000/25000 - 4s - loss: 0.5352 - acc: 0.8448 - val_loss: 0.4947 - val_acc: 0.8565\n",
      "Epoch 10/100\n",
      "25000/25000 - 4s - loss: 0.5295 - acc: 0.8411 - val_loss: 0.4937 - val_acc: 0.8538\n",
      "Epoch 11/100\n",
      "25000/25000 - 4s - loss: 0.5219 - acc: 0.8450 - val_loss: 0.4943 - val_acc: 0.8552\n",
      "Epoch 12/100\n",
      "25000/25000 - 4s - loss: 0.5198 - acc: 0.8458 - val_loss: 0.4859 - val_acc: 0.8576\n",
      "Epoch 13/100\n",
      "25000/25000 - 4s - loss: 0.5153 - acc: 0.8453 - val_loss: 0.4824 - val_acc: 0.8560\n",
      "Epoch 14/100\n",
      "25000/25000 - 4s - loss: 0.5155 - acc: 0.8442 - val_loss: 0.4794 - val_acc: 0.8592\n",
      "Epoch 15/100\n",
      "25000/25000 - 4s - loss: 0.5100 - acc: 0.8482 - val_loss: 0.4809 - val_acc: 0.8571\n",
      "Epoch 16/100\n",
      "25000/25000 - 4s - loss: 0.5080 - acc: 0.8478 - val_loss: 0.4760 - val_acc: 0.8568\n",
      "Epoch 17/100\n",
      "25000/25000 - 4s - loss: 0.5089 - acc: 0.8468 - val_loss: 0.4708 - val_acc: 0.8588\n",
      "Epoch 18/100\n",
      "25000/25000 - 4s - loss: 0.5055 - acc: 0.8488 - val_loss: 0.4688 - val_acc: 0.8574\n",
      "Epoch 19/100\n",
      "25000/25000 - 4s - loss: 0.5014 - acc: 0.8483 - val_loss: 0.4662 - val_acc: 0.8585\n",
      "Epoch 20/100\n",
      "25000/25000 - 4s - loss: 0.5027 - acc: 0.8451 - val_loss: 0.4675 - val_acc: 0.8566\n",
      "Epoch 21/100\n",
      "25000/25000 - 4s - loss: 0.4980 - acc: 0.8493 - val_loss: 0.4718 - val_acc: 0.8559\n",
      "Epoch 22/100\n",
      "25000/25000 - 4s - loss: 0.4981 - acc: 0.8471 - val_loss: 0.4744 - val_acc: 0.8506\n",
      "Epoch 23/100\n",
      "25000/25000 - 4s - loss: 0.4970 - acc: 0.8471 - val_loss: 0.4646 - val_acc: 0.8558\n",
      "Epoch 24/100\n",
      "25000/25000 - 4s - loss: 0.4979 - acc: 0.8452 - val_loss: 0.4664 - val_acc: 0.8609\n",
      "Epoch 25/100\n",
      "25000/25000 - 4s - loss: 0.4909 - acc: 0.8488 - val_loss: 0.4586 - val_acc: 0.8589\n",
      "Epoch 26/100\n",
      "25000/25000 - 4s - loss: 0.4926 - acc: 0.8466 - val_loss: 0.4601 - val_acc: 0.8582\n",
      "Epoch 27/100\n",
      "25000/25000 - 4s - loss: 0.4913 - acc: 0.8494 - val_loss: 0.4642 - val_acc: 0.8555\n",
      "Epoch 28/100\n",
      "25000/25000 - 4s - loss: 0.4917 - acc: 0.8476 - val_loss: 0.4540 - val_acc: 0.8600\n",
      "Epoch 29/100\n",
      "25000/25000 - 4s - loss: 0.4920 - acc: 0.8473 - val_loss: 0.4605 - val_acc: 0.8596\n",
      "Epoch 30/100\n",
      "25000/25000 - 4s - loss: 0.4888 - acc: 0.8464 - val_loss: 0.4548 - val_acc: 0.8586\n",
      "Epoch 31/100\n",
      "25000/25000 - 4s - loss: 0.4925 - acc: 0.8473 - val_loss: 0.4583 - val_acc: 0.8560\n",
      "Epoch 32/100\n",
      "25000/25000 - 4s - loss: 0.4852 - acc: 0.8506 - val_loss: 0.4544 - val_acc: 0.8604\n",
      "Epoch 33/100\n",
      "25000/25000 - 4s - loss: 0.4884 - acc: 0.8470 - val_loss: 0.4617 - val_acc: 0.8536\n",
      "Epoch 34/100\n",
      "Restoring model weights from the end of the best epoch.\n",
      "25000/25000 - 4s - loss: 0.4820 - acc: 0.8511 - val_loss: 0.4508 - val_acc: 0.8592\n",
      "Epoch 00034: early stopping\n"
     ]
    }
   ],
   "source": [
    "# DONE: Run the model. Feel free to experiment with different batch sizes and number of epochs.\n",
    "\n",
    "early_stopping = keras.callbacks.EarlyStopping(\n",
    "    monitor='val_acc', min_delta=0.0015, patience=10,\n",
    "    verbose=2, mode='auto', restore_best_weights=True)\n",
    "\n",
    "history = model.fit(x_train, y_train,\n",
    "                    batch_size=16,\n",
    "                    epochs=100,\n",
    "                    validation_data=(x_test, y_test),\n",
    "                    verbose=2,\n",
    "                    callbacks=[early_stopping])"
   ]
  },
  {
   "cell_type": "code",
   "execution_count": 9,
   "metadata": {},
   "outputs": [
    {
     "data": {
      "image/png": "[encoded data removed]",
      "text/plain": [
       "<Figure size 1152x288 with 2 Axes>"
      ]
     },
     "metadata": {
      "needs_background": "light"
     },
     "output_type": "display_data"
    }
   ],
   "source": [
    "fig, axs = plt.subplots(figsize=(16,4), nrows=1, ncols=2)\n",
    "\n",
    "# summarize history for loss\n",
    "axs[0].plot(history.history['loss'])\n",
    "axs[0].plot(history.history['val_loss'])\n",
    "axs[0].set_title('model loss')\n",
    "axs[0].set_ylabel('loss')\n",
    "axs[0].set_xlabel('epoch')\n",
    "axs[0].legend(['train', 'test'])\n",
    "\n",
    "# summarize history for accuracy\n",
    "axs[1].plot(history.history['acc'])\n",
    "axs[1].plot(history.history['val_acc'])\n",
    "axs[1].set_title('model accuracy')\n",
    "axs[1].set_ylabel('accuracy')\n",
    "axs[1].set_xlabel('epoch')\n",
    "axs[1].legend(['train', 'test'])\n",
    "\n",
    "# plot graphs\n",
    "plt.show()"
   ]
  },
  {
   "cell_type": "markdown",
   "metadata": {},
   "source": [
    "## 6. Evaluating the model\n",
    "This will give you the accuracy of the model, as evaluated on the testing set. Can you get something over 85%?"
   ]
  },
  {
   "cell_type": "code",
   "execution_count": 10,
   "metadata": {},
   "outputs": [
    {
     "name": "stdout",
     "output_type": "stream",
     "text": [
      "Accuracy:  0.86092\n"
     ]
    }
   ],
   "source": [
    "score = model.evaluate(x_test, y_test, verbose=0)\n",
    "print(\"Accuracy: \", score[1])"
   ]
  }
 ],
 "metadata": {
  "kernelspec": {
   "display_name": "Python 3",
   "language": "python",
   "name": "python3"
  },
  "language_info": {
   "codemirror_mode": {
    "name": "ipython",
    "version": 3
   },
   "file_extension": ".py",
   "mimetype": "text/x-python",
   "name": "python",
   "nbconvert_exporter": "python",
   "pygments_lexer": "ipython3",
   "version": "3.7.6"
  }
 },
 "nbformat": 4,
 "nbformat_minor": 2
}
